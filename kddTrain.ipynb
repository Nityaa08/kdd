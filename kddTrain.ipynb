{
  "cells": [
    {
      "cell_type": "code",
      "execution_count": null,
      "id": "ebec557d",
      "metadata": {
        "id": "ebec557d"
      },
      "outputs": [],
      "source": [
        "import pandas as pd\n",
        "x=pd.read_csv(\"kdd_train.csv\")"
      ]
    },
    {
      "cell_type": "code",
      "execution_count": null,
      "id": "6b65c84c",
      "metadata": {
        "id": "6b65c84c"
      },
      "outputs": [],
      "source": [
        "x[\"labels\"]=x[\"labels\"].replace(['neptune', 'warezclient', 'ipsweep', 'portsweep',\n",
        "       'teardrop', 'nmap', 'satan', 'smurf', 'pod', 'back',\n",
        "       'guess_passwd', 'ftp_write', 'multihop', 'rootkit',\n",
        "       'buffer_overflow', 'imap', 'warezmaster', 'phf', 'land',\n",
        "       'loadmodule', 'spy', 'perl'], 'attack')"
      ]
    },
    {
      "cell_type": "code",
      "execution_count": null,
      "id": "28a8c329",
      "metadata": {
        "id": "28a8c329",
        "outputId": "9a12749a-40de-43d5-d7cc-71603180cca5"
      },
      "outputs": [
        {
          "data": {
            "text/plain": [
              "array(['normal', 'attack'], dtype=object)"
            ]
          },
          "execution_count": 3,
          "metadata": {},
          "output_type": "execute_result"
        }
      ],
      "source": [
        "x[\"labels\"].unique()"
      ]
    },
    {
      "cell_type": "code",
      "execution_count": null,
      "id": "623e1e2e",
      "metadata": {
        "id": "623e1e2e"
      },
      "outputs": [],
      "source": [
        "x['labels']=x['labels'].map({'normal':0,'attack':1})"
      ]
    },
    {
      "cell_type": "code",
      "execution_count": null,
      "id": "b5f265e9",
      "metadata": {
        "id": "b5f265e9",
        "outputId": "4b4ee099-e77c-479d-bf7b-1d2e3807dfca"
      },
      "outputs": [
        {
          "data": {
            "text/plain": [
              "array([0, 1], dtype=int64)"
            ]
          },
          "execution_count": 5,
          "metadata": {},
          "output_type": "execute_result"
        }
      ],
      "source": [
        "x[\"labels\"].unique()"
      ]
    },
    {
      "cell_type": "code",
      "execution_count": null,
      "id": "3cd7a156",
      "metadata": {
        "id": "3cd7a156",
        "outputId": "efef4e6f-972b-4829-e69c-7043874fc2a8"
      },
      "outputs": [
        {
          "data": {
            "text/plain": [
              "Index(['duration', 'protocol_type', 'service', 'flag', 'src_bytes',\n",
              "       'dst_bytes', 'land', 'wrong_fragment', 'urgent', 'hot',\n",
              "       'num_failed_logins', 'logged_in', 'num_compromised', 'root_shell',\n",
              "       'su_attempted', 'num_root', 'num_file_creations', 'num_shells',\n",
              "       'num_access_files', 'num_outbound_cmds', 'is_host_login',\n",
              "       'is_guest_login', 'count', 'srv_count', 'serror_rate',\n",
              "       'srv_serror_rate', 'rerror_rate', 'srv_rerror_rate', 'same_srv_rate',\n",
              "       'diff_srv_rate', 'srv_diff_host_rate', 'dst_host_count',\n",
              "       'dst_host_srv_count', 'dst_host_same_srv_rate',\n",
              "       'dst_host_diff_srv_rate', 'dst_host_same_src_port_rate',\n",
              "       'dst_host_srv_diff_host_rate', 'dst_host_serror_rate',\n",
              "       'dst_host_srv_serror_rate', 'dst_host_rerror_rate',\n",
              "       'dst_host_srv_rerror_rate', 'labels'],\n",
              "      dtype='object')"
            ]
          },
          "execution_count": 6,
          "metadata": {},
          "output_type": "execute_result"
        }
      ],
      "source": [
        "x.columns"
      ]
    },
    {
      "cell_type": "code",
      "execution_count": null,
      "id": "8c8c7ceb",
      "metadata": {
        "id": "8c8c7ceb"
      },
      "outputs": [],
      "source": [
        "X=x.iloc[:, :-1].values"
      ]
    },
    {
      "cell_type": "code",
      "execution_count": null,
      "id": "38ba68d3",
      "metadata": {
        "id": "38ba68d3"
      },
      "outputs": [],
      "source": [
        "y=x.iloc[:,41].values"
      ]
    },
    {
      "cell_type": "code",
      "execution_count": null,
      "id": "e328057b",
      "metadata": {
        "id": "e328057b"
      },
      "outputs": [],
      "source": [
        "from sklearn.preprocessing import LabelEncoder,OneHotEncoder\n",
        "labelencoder_x_1=LabelEncoder()\n",
        "labelencoder_x_2=LabelEncoder()\n",
        "labelencoder_x_3=LabelEncoder()\n",
        "X[:,1]=labelencoder_x_1.fit_transform(X[:,1])\n",
        "X[:,2]=labelencoder_x_2.fit_transform(X[:,2])\n",
        "X[:,3]=labelencoder_x_3.fit_transform(X[:,3])"
      ]
    },
    {
      "cell_type": "code",
      "execution_count": null,
      "id": "04e239d4",
      "metadata": {
        "id": "04e239d4"
      },
      "outputs": [],
      "source": [
        "from sklearn import datasets\n",
        "from sklearn.model_selection import train_test_split\n",
        "import numpy as np\n",
        "from collections import Counter"
      ]
    },
    {
      "cell_type": "code",
      "execution_count": null,
      "id": "2366a037",
      "metadata": {
        "id": "2366a037",
        "outputId": "acfcdb0d-67c9-4782-a2c8-4efa916b8214"
      },
      "outputs": [
        {
          "name": "stdout",
          "output_type": "stream",
          "text": [
            "Original datast shapeCounter({0: 67343, 1: 58630})\n",
            "Training datast shapeCounter({0: 45150, 1: 39251})\n"
          ]
        }
      ],
      "source": [
        "X_train,X_test,y_train,y_test=train_test_split(X,y,test_size=0.33,random_state=42)\n",
        "print('Original datast shape{}'.format(Counter(y)))\n",
        "print('Training datast shape{}'.format(Counter(y_train)))"
      ]
    },
    {
      "cell_type": "code",
      "execution_count": null,
      "id": "3e2c25e5",
      "metadata": {
        "id": "3e2c25e5",
        "outputId": "56a82a63-4f5a-4306-81fd-f028759a3eac"
      },
      "outputs": [
        {
          "name": "stdout",
          "output_type": "stream",
          "text": [
            "Random undersamplingCounter({1: 1000, 0: 65})\n"
          ]
        }
      ],
      "source": [
        "from imblearn.datasets import make_imbalance\n",
        "X_rs,y_rs=make_imbalance(X_train,y_train,sampling_strategy={1:1000,0:65},random_state=0)\n",
        "print('Random undersampling{}'.format(Counter(y_rs)))"
      ]
    },
    {
      "cell_type": "code",
      "execution_count": null,
      "id": "ebedfdd9",
      "metadata": {
        "id": "ebedfdd9",
        "outputId": "64912d11-4abb-4918-9c41-58d305cc723a"
      },
      "outputs": [
        {
          "data": {
            "text/plain": [
              "(1065, 41)"
            ]
          },
          "execution_count": 14,
          "metadata": {},
          "output_type": "execute_result"
        }
      ],
      "source": [
        "X_rs.shape"
      ]
    },
    {
      "cell_type": "code",
      "execution_count": null,
      "id": "4cedcc9a",
      "metadata": {
        "id": "4cedcc9a"
      },
      "outputs": [],
      "source": [
        "from imblearn.under_sampling import(RandomUnderSampler,ClusterCentroids,TomekLinks,NeighbourhoodCleaningRule,NearMiss)"
      ]
    },
    {
      "cell_type": "code",
      "execution_count": null,
      "id": "d780dc52",
      "metadata": {
        "id": "d780dc52",
        "outputId": "afafada0-feea-426b-cd1a-69fdeca09912"
      },
      "outputs": [
        {
          "name": "stdout",
          "output_type": "stream",
          "text": [
            "Random undersamplingCounter({0: 39251, 1: 39251})\n"
          ]
        }
      ],
      "source": [
        "sampler=RandomUnderSampler()\n",
        "X_rs1,y_rs1=sampler.fit_resample(X_train,y_train)\n",
        "print('Random undersampling{}'.format(Counter(y_rs1)))"
      ]
    },
    {
      "cell_type": "code",
      "execution_count": null,
      "id": "f9f59a6e",
      "metadata": {
        "id": "f9f59a6e",
        "outputId": "5d80dd0c-65ef-47c7-9629-0e03f1e09b3f"
      },
      "outputs": [
        {
          "data": {
            "text/plain": [
              "(78502, 41)"
            ]
          },
          "execution_count": 18,
          "metadata": {},
          "output_type": "execute_result"
        }
      ],
      "source": [
        "X_rs1.shape"
      ]
    },
    {
      "cell_type": "code",
      "execution_count": null,
      "id": "1878dae1",
      "metadata": {
        "id": "1878dae1",
        "outputId": "c8db0aa9-f0b9-4c98-d875-0df2c53e77df"
      },
      "outputs": [
        {
          "name": "stderr",
          "output_type": "stream",
          "text": [
            "C:\\Users\\Admin\\AppData\\Roaming\\Python\\Python38\\site-packages\\sklearn\\cluster\\_kmeans.py:1416: FutureWarning: The default value of `n_init` will change from 10 to 'auto' in 1.4. Set the value of `n_init` explicitly to suppress the warning\n",
            "  super()._check_params_vs_input(X, default_n_init=10)\n",
            "C:\\Users\\Admin\\AppData\\Roaming\\Python\\Python38\\site-packages\\sklearn\\cluster\\_kmeans.py:1416: FutureWarning: The default value of `n_init` will change from 10 to 'auto' in 1.4. Set the value of `n_init` explicitly to suppress the warning\n",
            "  super()._check_params_vs_input(X, default_n_init=10)\n"
          ]
        },
        {
          "name": "stdout",
          "output_type": "stream",
          "text": [
            "Cluster centroids undersampling Counter({0: 1000, 1: 1000})\n"
          ]
        }
      ],
      "source": [
        "sampler=ClusterCentroids(sampling_strategy={1:1000,0:1000})\n",
        "X_rs2,y_rs2=sampler.fit_resample(X_train,y_train)\n",
        "print('Cluster centroids undersampling {}'.format(Counter(y_rs2)))"
      ]
    },
    {
      "cell_type": "code",
      "execution_count": null,
      "id": "acb8aa9d",
      "metadata": {
        "id": "acb8aa9d",
        "outputId": "2d9ec104-014e-4b1f-fd76-d1659cd602b9"
      },
      "outputs": [
        {
          "data": {
            "text/plain": [
              "(2000, 41)"
            ]
          },
          "execution_count": 20,
          "metadata": {},
          "output_type": "execute_result"
        }
      ],
      "source": [
        "X_rs2.shape"
      ]
    },
    {
      "cell_type": "code",
      "execution_count": null,
      "id": "488d9255",
      "metadata": {
        "id": "488d9255",
        "outputId": "4f941945-109b-452d-f1d7-acaa6a3dc2fd"
      },
      "outputs": [
        {
          "name": "stdout",
          "output_type": "stream",
          "text": [
            "TomekLinks undersampling Counter({0: 45118, 1: 39251})\n"
          ]
        }
      ],
      "source": [
        "sampler=TomekLinks()\n",
        "X_rs3,y_rs3=sampler.fit_resample(X_train,y_train)\n",
        "print('TomekLinks undersampling {}'.format(Counter(y_rs3)))"
      ]
    },
    {
      "cell_type": "code",
      "execution_count": null,
      "id": "e7007075",
      "metadata": {
        "id": "e7007075",
        "outputId": "d5851494-977b-4c12-eea9-e95dae456154"
      },
      "outputs": [
        {
          "data": {
            "text/plain": [
              "(84369, 41)"
            ]
          },
          "execution_count": 23,
          "metadata": {},
          "output_type": "execute_result"
        }
      ],
      "source": [
        "X_rs3.shape"
      ]
    },
    {
      "cell_type": "code",
      "execution_count": null,
      "id": "7eb8069f",
      "metadata": {
        "id": "7eb8069f",
        "outputId": "464994fc-e00e-4715-e29c-ec9173af4658"
      },
      "outputs": [
        {
          "name": "stdout",
          "output_type": "stream",
          "text": [
            "NearestNeighbours Clearning Rule undersampling Counter({0: 44724, 1: 39251})\n"
          ]
        }
      ],
      "source": [
        "sampler= NeighbourhoodCleaningRule()\n",
        "X_rs4, y_rs4 = sampler.fit_resample(X_train, y_train)\n",
        "print('NearestNeighbours Clearning Rule undersampling {}'.format(Counter(y_rs4)))\n"
      ]
    },
    {
      "cell_type": "code",
      "execution_count": null,
      "id": "92002c0b",
      "metadata": {
        "id": "92002c0b",
        "outputId": "bde3a0c7-8afb-49a6-94f1-350b02c25ad3"
      },
      "outputs": [
        {
          "data": {
            "text/plain": [
              "(83975, 41)"
            ]
          },
          "execution_count": 25,
          "metadata": {},
          "output_type": "execute_result"
        }
      ],
      "source": [
        "X_rs4.shape"
      ]
    },
    {
      "cell_type": "code",
      "execution_count": null,
      "id": "ad55ec6e",
      "metadata": {
        "id": "ad55ec6e",
        "outputId": "99c2e04b-b123-48c3-cbda-f1731c2dbd17"
      },
      "outputs": [
        {
          "name": "stdout",
          "output_type": "stream",
          "text": [
            "NearMissCounter({0: 39251, 1: 39251})\n"
          ]
        }
      ],
      "source": [
        "sampler = NearMiss()\n",
        "X_rs5, y_rs5 = sampler.fit_resample(X_train, y_train)\n",
        "print('NearMiss{}'.format(Counter(y_rs5)))\n"
      ]
    },
    {
      "cell_type": "code",
      "execution_count": null,
      "id": "d62e5644",
      "metadata": {
        "id": "d62e5644",
        "outputId": "dce676bc-c07e-44ac-f052-1471aa6bb33d"
      },
      "outputs": [
        {
          "data": {
            "text/plain": [
              "(78502, 41)"
            ]
          },
          "execution_count": 27,
          "metadata": {},
          "output_type": "execute_result"
        }
      ],
      "source": [
        "X_rs5.shape"
      ]
    },
    {
      "cell_type": "code",
      "execution_count": null,
      "id": "78ead408",
      "metadata": {
        "id": "78ead408"
      },
      "outputs": [],
      "source": [
        "from imblearn.over_sampling import (RandomOverSampler,\n",
        "                                    SMOTE,\n",
        "                                    ADASYN)"
      ]
    },
    {
      "cell_type": "code",
      "execution_count": null,
      "id": "b9347043",
      "metadata": {
        "id": "b9347043",
        "outputId": "3fda6424-5c29-4f1e-82af-87a076f5b69a"
      },
      "outputs": [
        {
          "name": "stdout",
          "output_type": "stream",
          "text": [
            "RandomOverSampler Counter({1: 45150, 0: 45150})\n"
          ]
        }
      ],
      "source": [
        "sampler = RandomOverSampler()\n",
        "X_rs6, y_rs6 = sampler.fit_resample(X_train, y_train)\n",
        "print('RandomOverSampler {}'.format(Counter(y_rs6)))"
      ]
    },
    {
      "cell_type": "code",
      "execution_count": null,
      "id": "c9964eab",
      "metadata": {
        "id": "c9964eab",
        "outputId": "76f177fa-4805-476a-82fa-382428c677fe"
      },
      "outputs": [
        {
          "data": {
            "text/plain": [
              "(90300, 41)"
            ]
          },
          "execution_count": 30,
          "metadata": {},
          "output_type": "execute_result"
        }
      ],
      "source": [
        "X_rs6.shape"
      ]
    },
    {
      "cell_type": "code",
      "execution_count": null,
      "id": "a51f45ae",
      "metadata": {
        "id": "a51f45ae",
        "outputId": "f7ca98b6-ad4c-433c-938e-4a0a6a685a63"
      },
      "outputs": [
        {
          "name": "stdout",
          "output_type": "stream",
          "text": [
            "SMOTE Counter({1: 45150, 0: 45150})\n"
          ]
        }
      ],
      "source": [
        "sampler = SMOTE()\n",
        "X_rs7, y_rs7 = sampler.fit_resample(X_train, y_train)\n",
        "print('SMOTE {}'.format(Counter(y_rs7)))\n"
      ]
    },
    {
      "cell_type": "code",
      "execution_count": null,
      "id": "6eb9241f",
      "metadata": {
        "id": "6eb9241f",
        "outputId": "35258584-d354-4288-effa-78e01652a246"
      },
      "outputs": [
        {
          "data": {
            "text/plain": [
              "(90300, 41)"
            ]
          },
          "execution_count": 32,
          "metadata": {},
          "output_type": "execute_result"
        }
      ],
      "source": [
        "X_rs7.shape"
      ]
    },
    {
      "cell_type": "code",
      "execution_count": null,
      "id": "faa4e2ca",
      "metadata": {
        "id": "faa4e2ca",
        "outputId": "699ecd86-7c9a-4e88-9337-671c7755ea77"
      },
      "outputs": [
        {
          "name": "stdout",
          "output_type": "stream",
          "text": [
            "ADASYN Counter({1: 45227, 0: 45150})\n"
          ]
        }
      ],
      "source": [
        "sampler = ADASYN()\n",
        "X_rs8, y_rs8 = sampler.fit_resample(X_train, y_train)\n",
        "print('ADASYN {}'.format(Counter(y_rs8)))"
      ]
    },
    {
      "cell_type": "code",
      "execution_count": null,
      "id": "71a84362",
      "metadata": {
        "id": "71a84362",
        "outputId": "47504300-c90a-4f8b-b4c7-0434529d48b2"
      },
      "outputs": [
        {
          "data": {
            "text/plain": [
              "(90377, 41)"
            ]
          },
          "execution_count": 34,
          "metadata": {},
          "output_type": "execute_result"
        }
      ],
      "source": [
        "X_rs8.shape"
      ]
    },
    {
      "cell_type": "code",
      "execution_count": null,
      "id": "ed197edc",
      "metadata": {
        "id": "ed197edc"
      },
      "outputs": [],
      "source": []
    }
  ],
  "metadata": {
    "kernelspec": {
      "display_name": "Python 3",
      "language": "python",
      "name": "python3"
    },
    "language_info": {
      "codemirror_mode": {
        "name": "ipython",
        "version": 3
      },
      "file_extension": ".py",
      "mimetype": "text/x-python",
      "name": "python",
      "nbconvert_exporter": "python",
      "pygments_lexer": "ipython3",
      "version": "3.8.8"
    },
    "colab": {
      "provenance": []
    }
  },
  "nbformat": 4,
  "nbformat_minor": 5
}